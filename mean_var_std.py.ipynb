{
 "cells": [
  {
   "cell_type": "code",
   "execution_count": 11,
   "id": "931a217c-578c-477b-91d6-0b1efdbb2cde",
   "metadata": {},
   "outputs": [
    {
     "data": {
      "text/plain": [
       "{'mean': [[3.0, 4.0, 5.0], [1.0, 4.0, 7.0], 4.0],\n",
       " 'variance': [[6.0, 6.0, 6.0],\n",
       "  [0.6666666666666666, 0.6666666666666666, 0.6666666666666666],\n",
       "  6.666666666666667],\n",
       " 'standard deviation': [[2.449489742783178,\n",
       "   2.449489742783178,\n",
       "   2.449489742783178],\n",
       "  [0.816496580927726, 0.816496580927726, 0.816496580927726],\n",
       "  2.581988897471611],\n",
       " 'max': [[6, 7, 8], [2, 5, 8], 8],\n",
       " 'min': [[0, 1, 2], [0, 3, 6], 0],\n",
       " 'sum': [[9, 12, 15], [3, 12, 21], 36]}"
      ]
     },
     "execution_count": 11,
     "metadata": {},
     "output_type": "execute_result"
    }
   ],
   "source": [
    "import numpy as np\n",
    "\n",
    "def calculate(lst):\n",
    "    # Check if list has exactly 9 elements\n",
    "    if len(lst) != 9:\n",
    "        raise ValueError(\"List must contain nine numbers.\")\n",
    "    \n",
    "    # Convert list to 3x3 NumPy array\n",
    "    arr = np.array(lst).reshape(3, 3)\n",
    "    \n",
    "    # Prepare dictionary\n",
    "    calculations = {\n",
    "        'mean': [\n",
    "            arr.mean(axis=0).tolist(),  # mean of columns\n",
    "            arr.mean(axis=1).tolist(),  # mean of rows\n",
    "            arr.mean().item()           # mean of flattened array\n",
    "        ],\n",
    "        'variance': [\n",
    "            arr.var(axis=0).tolist(),\n",
    "            arr.var(axis=1).tolist(),\n",
    "            arr.var().item()\n",
    "        ],\n",
    "        'standard deviation': [\n",
    "            arr.std(axis=0).tolist(),\n",
    "            arr.std(axis=1).tolist(),\n",
    "            arr.std().item()\n",
    "        ],\n",
    "        'max': [\n",
    "            arr.max(axis=0).tolist(),\n",
    "            arr.max(axis=1).tolist(),\n",
    "            arr.max().item()\n",
    "        ],\n",
    "        'min': [\n",
    "            arr.min(axis=0).tolist(),\n",
    "            arr.min(axis=1).tolist(),\n",
    "            arr.min().item()\n",
    "        ],\n",
    "        'sum': [\n",
    "            arr.sum(axis=0).tolist(),\n",
    "            arr.sum(axis=1).tolist(),\n",
    "            arr.sum().item()\n",
    "        ]\n",
    "    }\n",
    "    \n",
    "    return calculations\n",
    "calculate([0, 1, 2, 3, 4, 5, 6, 7, 8])"
   ]
  },
  {
   "cell_type": "code",
   "execution_count": null,
   "id": "70ee8bdc-2580-4b93-898d-ba88b493feb9",
   "metadata": {},
   "outputs": [],
   "source": []
  }
 ],
 "metadata": {
  "kernelspec": {
   "display_name": "Python 3 (ipykernel)",
   "language": "python",
   "name": "python3"
  },
  "language_info": {
   "codemirror_mode": {
    "name": "ipython",
    "version": 3
   },
   "file_extension": ".py",
   "mimetype": "text/x-python",
   "name": "python",
   "nbconvert_exporter": "python",
   "pygments_lexer": "ipython3",
   "version": "3.12.7"
  }
 },
 "nbformat": 4,
 "nbformat_minor": 5
}
